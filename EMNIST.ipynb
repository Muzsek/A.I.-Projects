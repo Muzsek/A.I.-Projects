{
  "nbformat": 4,
  "nbformat_minor": 0,
  "metadata": {
    "colab": {
      "provenance": [],
      "gpuType": "T4",
      "authorship_tag": "ABX9TyPd67Z3r3BtzZe4ZKWlD07D",
      "include_colab_link": true
    },
    "kernelspec": {
      "name": "python3",
      "display_name": "Python 3"
    },
    "language_info": {
      "name": "python"
    },
    "accelerator": "GPU"
  },
  "cells": [
    {
      "cell_type": "markdown",
      "metadata": {
        "id": "view-in-github",
        "colab_type": "text"
      },
      "source": [
        "<a href=\"https://colab.research.google.com/github/Muzsek/A.I.-Projects/blob/main/EMNIST.ipynb\" target=\"_parent\"><img src=\"https://colab.research.google.com/assets/colab-badge.svg\" alt=\"Open In Colab\"/></a>"
      ]
    },
    {
      "cell_type": "code",
      "execution_count": null,
      "metadata": {
        "id": "QgnKeyeiwsr6"
      },
      "outputs": [],
      "source": [
        "import torch\n",
        "import torchvision\n",
        "from torchvision import datasets, transforms, models\n",
        "from torch.utils.data import Dataset\n",
        "from torch.utils.data import DataLoader\n",
        "import matplotlib.pyplot as plt\n",
        "from torch import nn"
      ]
    },
    {
      "cell_type": "code",
      "source": [
        "transform = transforms.Compose([\n",
        "                          transforms.Grayscale(),\n",
        "                          transforms.RandomRotation(degrees = 15),\n",
        "                          transforms.Resize((28,28)),\n",
        "                          transforms.RandomHorizontalFlip(p=0.5),\n",
        "                          transforms.ToTensor(),\n",
        "                          transforms.Normalize((0.1738,),(0.3249,)),\n",
        "                          ])"
      ],
      "metadata": {
        "id": "qPoL7cBhxdHh"
      },
      "execution_count": null,
      "outputs": []
    },
    {
      "cell_type": "code",
      "source": [
        "train_dataset = torchvision.datasets.EMNIST(root = \"./data\", split = \"byclass\",train = True, download = True, transform = transform)\n",
        "test_dataset = torchvision.datasets.EMNIST(root = \"./data\", split = \"byclass\", train = False, download = True, transform = transform)\n",
        "print(f\"Train dataset: {len(train_dataset)} samples\")\n",
        "print(f\"Test dataset: {len(test_dataset)} samples\")"
      ],
      "metadata": {
        "id": "9rM1pi6YxB_e",
        "colab": {
          "base_uri": "https://localhost:8080/"
        },
        "outputId": "6ea71726-7489-478b-a417-425955134247"
      },
      "execution_count": null,
      "outputs": [
        {
          "output_type": "stream",
          "name": "stdout",
          "text": [
            "Train dataset: 697932 samples\n",
            "Test dataset: 116323 samples\n"
          ]
        }
      ]
    },
    {
      "cell_type": "code",
      "source": [
        "#from torch.utils.data import subset\n",
        "subset_size = 200000\n",
        "\n",
        "indices = list(range(len(train_dataset)))\n",
        "subset_indices = indices[:subset_size]\n",
        "sub_train_dataset = torch.utils.data.Subset(train_dataset, subset_indices)\n",
        "print(f\"Subseted Train dataset: {len(sub_train_dataset)} samples\")"
      ],
      "metadata": {
        "colab": {
          "base_uri": "https://localhost:8080/"
        },
        "id": "RtxFIOxKJOx0",
        "outputId": "9d91805b-e57d-4b41-b323-03da9a7d2867"
      },
      "execution_count": null,
      "outputs": [
        {
          "output_type": "stream",
          "name": "stdout",
          "text": [
            "Subseted Train dataset: 200000 samples\n"
          ]
        }
      ]
    },
    {
      "cell_type": "code",
      "source": [
        "train_dataloader = DataLoader(sub_train_dataset, batch_size =64, shuffle = True)\n",
        "test_dataloader = DataLoader(test_dataset, batch_size = 64, shuffle = False)"
      ],
      "metadata": {
        "id": "BCmHkiVfxpAK"
      },
      "execution_count": null,
      "outputs": []
    },
    {
      "cell_type": "code",
      "source": [
        "mean = 0.0\n",
        "std = 0.0\n",
        "total_images = 0\n",
        "\n",
        "for images, _ in train_dataloader:\n",
        "    batch_samples = images.size(0)  # batch mérete\n",
        "    images = images.view(batch_samples, -1)  # flatten: (batch, pixels)\n",
        "    mean += images.mean(1).sum()\n",
        "    std += images.std(1).sum()\n",
        "    total_images += batch_samples\n",
        "\n",
        "mean /= total_images\n",
        "std /= total_images\n",
        "\n",
        "print(f\"EMNIST mean: {mean.item():.4f}\")\n",
        "print(f\"EMNIST std: {std.item():.4f}\")"
      ],
      "metadata": {
        "colab": {
          "base_uri": "https://localhost:8080/"
        },
        "id": "gQBDV_-3eCnq",
        "outputId": "7897e585-cb52-4376-aecf-796fd92da966"
      },
      "execution_count": null,
      "outputs": [
        {
          "output_type": "stream",
          "name": "stdout",
          "text": [
            "EMNIST mean: 0.1738\n",
            "EMNIST std: 0.3249\n"
          ]
        }
      ]
    },
    {
      "cell_type": "code",
      "source": [
        "emnist_byclass_labels = {\n",
        "    **{i: str(i) for i in range(10)},\n",
        "    **{i + 10: chr(ord('A') + i) for i in range(26)},\n",
        "    **{i + 36: chr(ord('a') + i) for i in range(26)}\n",
        "}\n",
        "#torch.manual_seed(42)\n",
        "train_features, train_labels = next(iter(train_dataloader))\n",
        "print(f\"Train features' shape: {train_features.shape}\")\n",
        "print(f\"Train labels' shape: {train_labels.shape}\")\n",
        "img = train_features[0].squeeze()\n",
        "label = train_labels[0]\n",
        "plt.imshow(img, cmap=\"gray\")\n",
        "plt.show()\n",
        "print(f\"Label: {emnist_byclass_labels[int(label)]}\")"
      ],
      "metadata": {
        "colab": {
          "base_uri": "https://localhost:8080/",
          "height": 484
        },
        "id": "uCg6MMfuyIVT",
        "outputId": "e6fe195d-e3ca-43ad-e1ae-1c5dc2b407a7"
      },
      "execution_count": null,
      "outputs": [
        {
          "output_type": "stream",
          "name": "stdout",
          "text": [
            "Train features' shape: torch.Size([64, 1, 28, 28])\n",
            "Train labels' shape: torch.Size([64])\n"
          ]
        },
        {
          "output_type": "display_data",
          "data": {
            "text/plain": [
              "<Figure size 640x480 with 1 Axes>"
            ],
            "image/png": "[encoded data removed]"
          },
          "metadata": {}
        },
        {
          "output_type": "stream",
          "name": "stdout",
          "text": [
            "Label: 4\n"
          ]
        }
      ]
    },
    {
      "cell_type": "code",
      "source": [
        "print(f\"All classes in EMNIST: {len(train_dataset.classes)}\")"
      ],
      "metadata": {
        "colab": {
          "base_uri": "https://localhost:8080/"
        },
        "id": "NAhfZD3lyYSF",
        "outputId": "349efc8d-18f4-4fb0-8b12-09ee79384557"
      },
      "execution_count": null,
      "outputs": [
        {
          "output_type": "stream",
          "name": "stdout",
          "text": [
            "All classes in EMNIST: 62\n"
          ]
        }
      ]
    },
    {
      "cell_type": "code",
      "source": [
        "class CNN(nn.Module):\n",
        "    def __init__(self):\n",
        "        super(CNN, self).__init__()\n",
        "        self.conv1_block = nn.Sequential(\n",
        "            nn.Conv2d(1, 32, kernel_size=3, stride=1, padding=1),\n",
        "            nn.BatchNorm2d(32),\n",
        "            nn.ReLU(),\n",
        "            nn.Conv2d(32, 64, kernel_size=3, stride=1, padding=1),\n",
        "            nn.BatchNorm2d(64),\n",
        "            nn.ReLU(),\n",
        "            nn.MaxPool2d(2, 2),\n",
        "            nn.Dropout(0.1)\n",
        "        )\n",
        "        self.conv2_block = nn.Sequential(\n",
        "            nn.Conv2d(64, 128, kernel_size=3, stride=1, padding=1),\n",
        "            nn.BatchNorm2d(128),\n",
        "            nn.ReLU(),\n",
        "            nn.Conv2d(128, 256, kernel_size=3, stride=1, padding=1),\n",
        "            nn.BatchNorm2d(256),\n",
        "            nn.ReLU(),\n",
        "            nn.MaxPool2d(2, 2),\n",
        "            nn.Dropout(0.25)\n",
        "        )\n",
        "        self.classifier = nn.Sequential(\n",
        "            nn.AdaptiveAvgPool2d((1, 1)),\n",
        "            nn.Flatten(),\n",
        "            nn.Linear(256, 62)  # EMNIST byclass = 62 osztály\n",
        "        )\n",
        "    def forward(self, x):\n",
        "      # x = self.conv1_block(x)\n",
        "      # print(x.shape)\n",
        "      # x = self.conv2_block(x)\n",
        "      # print(x.shape)\n",
        "      # x = torch.flatten(x, 1)\n",
        "      # print(\"After flatten:\", x.shape)\n",
        "      # x = self.classifier(x)\n",
        "      # return x\n",
        "      return self.classifier(self.conv2_block(self.conv1_block(x)))\n",
        "device = \"cuda\" if torch.cuda.is_available() else \"cpu\"\n",
        "print(f\"Current device: {device}\")\n",
        "model_0 = CNN().to(device)\n",
        "next(model_0.parameters()).is_cuda"
      ],
      "metadata": {
        "id": "qSgcVXyR1Q1y",
        "colab": {
          "base_uri": "https://localhost:8080/"
        },
        "outputId": "c526b545-f55b-4c01-ac40-c8a2279069c8"
      },
      "execution_count": null,
      "outputs": [
        {
          "output_type": "stream",
          "name": "stdout",
          "text": [
            "Current device: cuda\n"
          ]
        },
        {
          "output_type": "execute_result",
          "data": {
            "text/plain": [
              "True"
            ]
          },
          "metadata": {},
          "execution_count": 95
        }
      ]
    },
    {
      "cell_type": "code",
      "source": [
        "loss_fn = nn.CrossEntropyLoss()\n",
        "optimizer = torch.optim.Adam(params = model_0.parameters(), lr = 0.001)"
      ],
      "metadata": {
        "id": "-R73cnvPGpez"
      },
      "execution_count": null,
      "outputs": []
    },
    {
      "cell_type": "code",
      "source": [
        "def accuracy_fn(y_true, y_pred):\n",
        "    \"\"\"Calculates accuracy between truth labels and predictions.\n",
        "\n",
        "    Args:\n",
        "        y_true (torch.Tensor): Truth labels for predictions.\n",
        "        y_pred (torch.Tensor): Predictions to be compared to predictions.\n",
        "\n",
        "    Returns:\n",
        "        [torch.float]: Accuracy value between y_true and y_pred, e.g. 78.45\n",
        "    \"\"\"\n",
        "    correct = torch.eq(y_true, y_pred).sum().item()\n",
        "    acc = (correct / len(y_pred)) * 100\n",
        "    return acc\n"
      ],
      "metadata": {
        "id": "3Yqlu1mAHD7s"
      },
      "execution_count": null,
      "outputs": []
    },
    {
      "cell_type": "code",
      "source": [
        "epoch = 3\n",
        "for epoch in range(epoch):\n",
        "    print(f\"Epoch: {epoch}\\n-------\")\n",
        "    train_loss = 0\n",
        "    test_loss = 0\n",
        "    model_0.train()\n",
        "    for batch, (X, y) in enumerate(train_dataloader):\n",
        "        X, y = X.to(device), y.to(device)\n",
        "        y_pred = model_0(X)\n",
        "        loss = loss_fn(y_pred, y)\n",
        "        optimizer.zero_grad()\n",
        "        loss.backward()\n",
        "        optimizer.step()\n",
        "        if batch % 400 == 0:\n",
        "          print(f\"Looked at {batch * len(X)}/{len(train_dataloader.dataset)} samples\")\n",
        "          print(f\"Loss: {loss.item()}\")\n",
        "    train_loss /= len(train_dataloader)\n",
        "\n",
        "    test_loss, test_acc = 0, 0\n",
        "    model_0.eval()\n",
        "    with torch.inference_mode():\n",
        "        for X, y in test_dataloader:\n",
        "            X, y = X.to(device), y.to(device)\n",
        "            # 1. Forward pass\n",
        "            test_pred = model_0(X)\n",
        "\n",
        "            # 2. Calculate loss (accumulatively)\n",
        "            test_loss += loss_fn(test_pred, y) # accumulatively add up the loss per epoch\n",
        "\n",
        "            # 3. Calculate accuracy (preds need to be same as y_true)\n",
        "            test_acc += accuracy_fn(y_true=y, y_pred=test_pred.argmax(dim=1))\n",
        "\n",
        "        # Calculations on test metrics need to happen inside torch.inference_mode()\n",
        "        # Divide total test loss by length of test dataloader (per batch)\n",
        "        test_loss /= len(test_dataloader)\n",
        "\n",
        "        # Divide total accuracy by length of test dataloader (per batch)\n",
        "        test_acc /= len(test_dataloader)\n",
        "\n",
        "    ## Print out what's happening\n",
        "    print(f\"\\nTrain loss: {train_loss:.5f} | Test loss: {test_loss:.5f}, Test acc: {test_acc:.2f}%\\n Accuracy:{test_acc:.2f}\")\n"
      ],
      "metadata": {
        "colab": {
          "base_uri": "https://localhost:8080/"
        },
        "id": "qg3-xrSxGwDC",
        "outputId": "80a6af18-3b82-4920-b24e-961614dc075a"
      },
      "execution_count": null,
      "outputs": [
        {
          "output_type": "stream",
          "name": "stdout",
          "text": [
            "Epoch: 0\n",
            "-------\n",
            "Looked at 0/200000 samples\n",
            "Loss: 4.157873630523682\n",
            "Looked at 25600/200000 samples\n",
            "Loss: 1.3981599807739258\n",
            "Looked at 51200/200000 samples\n",
            "Loss: 0.6270049214363098\n",
            "Looked at 76800/200000 samples\n",
            "Loss: 0.5878857970237732\n",
            "Looked at 102400/200000 samples\n",
            "Loss: 0.4247507154941559\n",
            "Looked at 128000/200000 samples\n",
            "Loss: 0.586607038974762\n",
            "Looked at 153600/200000 samples\n",
            "Loss: 0.5423743724822998\n",
            "Looked at 179200/200000 samples\n",
            "Loss: 0.5113822817802429\n",
            "\n",
            "Train loss: 0.00000 | Test loss: 0.52592, Test acc: 82.21%\n",
            " Accuracy:82.21\n",
            "Epoch: 1\n",
            "-------\n",
            "Looked at 0/200000 samples\n",
            "Loss: 0.6645208597183228\n",
            "Looked at 25600/200000 samples\n",
            "Loss: 0.48878178000450134\n",
            "Looked at 51200/200000 samples\n",
            "Loss: 0.34480899572372437\n",
            "Looked at 76800/200000 samples\n",
            "Loss: 0.5855316519737244\n",
            "Looked at 102400/200000 samples\n",
            "Loss: 0.5244772434234619\n",
            "Looked at 128000/200000 samples\n",
            "Loss: 0.4147442877292633\n",
            "Looked at 153600/200000 samples\n",
            "Loss: 0.5204923152923584\n",
            "Looked at 179200/200000 samples\n",
            "Loss: 0.7927495837211609\n",
            "\n",
            "Train loss: 0.00000 | Test loss: 0.45306, Test acc: 84.57%\n",
            " Accuracy:84.57\n",
            "Epoch: 2\n",
            "-------\n",
            "Looked at 0/200000 samples\n",
            "Loss: 0.7392803430557251\n",
            "Looked at 25600/200000 samples\n",
            "Loss: 0.662841796875\n",
            "Looked at 51200/200000 samples\n",
            "Loss: 0.2944035530090332\n",
            "Looked at 76800/200000 samples\n",
            "Loss: 0.4765606224536896\n",
            "Looked at 102400/200000 samples\n",
            "Loss: 0.40891972184181213\n",
            "Looked at 128000/200000 samples\n",
            "Loss: 0.6969037055969238\n",
            "Looked at 153600/200000 samples\n",
            "Loss: 0.6781665682792664\n",
            "Looked at 179200/200000 samples\n",
            "Loss: 0.40412190556526184\n",
            "\n",
            "Train loss: 0.00000 | Test loss: 0.43825, Test acc: 84.64%\n",
            " Accuracy:84.64\n"
          ]
        }
      ]
    }
  ]
}